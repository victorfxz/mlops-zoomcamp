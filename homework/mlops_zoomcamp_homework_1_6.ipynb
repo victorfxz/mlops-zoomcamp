{
  "nbformat": 4,
  "nbformat_minor": 0,
  "metadata": {
    "colab": {
      "provenance": []
    },
    "kernelspec": {
      "name": "python3",
      "display_name": "Python 3"
    },
    "language_info": {
      "name": "python"
    }
  },
  "cells": [
    {
      "cell_type": "code",
      "execution_count": 17,
      "metadata": {
        "id": "qUSBu9_c9jU6"
      },
      "outputs": [],
      "source": [
        "import pandas as pd\n",
        "from sklearn.feature_extraction import DictVectorizer\n",
        "from sklearn.linear_model import LinearRegression\n",
        "from sklearn.metrics import mean_squared_error"
      ]
    },
    {
      "cell_type": "code",
      "source": [
        "df_jan = pd.read_parquet('./data/yellow_tripdata_2023-01.parquet')\n",
        "df_fev = pd.read_parquet('./data/yellow_tripdata_2023-02.parquet')\n",
        "\n",
        "print(df_jan.info())\n",
        "print(df_jan.describe())"
      ],
      "metadata": {
        "colab": {
          "base_uri": "https://localhost:8080/"
        },
        "id": "sZB-H8W_az5l",
        "outputId": "7b05cb9d-7abc-4519-f77e-89d454b76686"
      },
      "execution_count": 18,
      "outputs": [
        {
          "output_type": "stream",
          "name": "stdout",
          "text": [
            "<class 'pandas.core.frame.DataFrame'>\n",
            "RangeIndex: 3066766 entries, 0 to 3066765\n",
            "Data columns (total 19 columns):\n",
            " #   Column                 Dtype         \n",
            "---  ------                 -----         \n",
            " 0   VendorID               int64         \n",
            " 1   tpep_pickup_datetime   datetime64[us]\n",
            " 2   tpep_dropoff_datetime  datetime64[us]\n",
            " 3   passenger_count        float64       \n",
            " 4   trip_distance          float64       \n",
            " 5   RatecodeID             float64       \n",
            " 6   store_and_fwd_flag     object        \n",
            " 7   PULocationID           int64         \n",
            " 8   DOLocationID           int64         \n",
            " 9   payment_type           int64         \n",
            " 10  fare_amount            float64       \n",
            " 11  extra                  float64       \n",
            " 12  mta_tax                float64       \n",
            " 13  tip_amount             float64       \n",
            " 14  tolls_amount           float64       \n",
            " 15  improvement_surcharge  float64       \n",
            " 16  total_amount           float64       \n",
            " 17  congestion_surcharge   float64       \n",
            " 18  airport_fee            float64       \n",
            "dtypes: datetime64[us](2), float64(12), int64(4), object(1)\n",
            "memory usage: 444.6+ MB\n",
            "None\n",
            "           VendorID        tpep_pickup_datetime       tpep_dropoff_datetime  \\\n",
            "count  3.066766e+06                     3066766                     3066766   \n",
            "mean   1.730215e+00  2023-01-17 00:22:26.288164  2023-01-17 00:38:06.427874   \n",
            "min    1.000000e+00         2008-12-31 23:01:42         2009-01-01 14:29:11   \n",
            "25%    1.000000e+00  2023-01-09 16:21:57.250000         2023-01-09 16:37:06   \n",
            "50%    2.000000e+00  2023-01-17 08:42:29.500000  2023-01-17 08:58:30.500000   \n",
            "75%    2.000000e+00         2023-01-24 16:26:27         2023-01-24 16:42:49   \n",
            "max    2.000000e+00         2023-02-01 00:56:53         2023-02-02 09:28:47   \n",
            "std    4.438480e-01                         NaN                         NaN   \n",
            "\n",
            "       passenger_count  trip_distance    RatecodeID  PULocationID  \\\n",
            "count     2.995023e+06   3.066766e+06  2.995023e+06  3.066766e+06   \n",
            "mean      1.362532e+00   3.847342e+00  1.497440e+00  1.663980e+02   \n",
            "min       0.000000e+00   0.000000e+00  1.000000e+00  1.000000e+00   \n",
            "25%       1.000000e+00   1.060000e+00  1.000000e+00  1.320000e+02   \n",
            "50%       1.000000e+00   1.800000e+00  1.000000e+00  1.620000e+02   \n",
            "75%       1.000000e+00   3.330000e+00  1.000000e+00  2.340000e+02   \n",
            "max       9.000000e+00   2.589281e+05  9.900000e+01  2.650000e+02   \n",
            "std       8.961200e-01   2.495838e+02  6.474767e+00  6.424413e+01   \n",
            "\n",
            "       DOLocationID  payment_type   fare_amount         extra       mta_tax  \\\n",
            "count  3.066766e+06  3.066766e+06  3.066766e+06  3.066766e+06  3.066766e+06   \n",
            "mean   1.643926e+02  1.194483e+00  1.836707e+01  1.537842e+00  4.882900e-01   \n",
            "min    1.000000e+00  0.000000e+00 -9.000000e+02 -7.500000e+00 -5.000000e-01   \n",
            "25%    1.140000e+02  1.000000e+00  8.600000e+00  0.000000e+00  5.000000e-01   \n",
            "50%    1.620000e+02  1.000000e+00  1.280000e+01  1.000000e+00  5.000000e-01   \n",
            "75%    2.340000e+02  1.000000e+00  2.050000e+01  2.500000e+00  5.000000e-01   \n",
            "max    2.650000e+02  4.000000e+00  1.160100e+03  1.250000e+01  5.316000e+01   \n",
            "std    6.994368e+01  5.294762e-01  1.780782e+01  1.789592e+00  1.034641e-01   \n",
            "\n",
            "         tip_amount  tolls_amount  improvement_surcharge  total_amount  \\\n",
            "count  3.066766e+06  3.066766e+06           3.066766e+06  3.066766e+06   \n",
            "mean   3.367941e+00  5.184907e-01           9.820847e-01  2.702038e+01   \n",
            "min   -9.622000e+01 -6.500000e+01          -1.000000e+00 -7.510000e+02   \n",
            "25%    1.000000e+00  0.000000e+00           1.000000e+00  1.540000e+01   \n",
            "50%    2.720000e+00  0.000000e+00           1.000000e+00  2.016000e+01   \n",
            "75%    4.200000e+00  0.000000e+00           1.000000e+00  2.870000e+01   \n",
            "max    3.808000e+02  1.969900e+02           1.000000e+00  1.169400e+03   \n",
            "std    3.826759e+00  2.017579e+00           1.833529e-01  2.216359e+01   \n",
            "\n",
            "       congestion_surcharge   airport_fee  \n",
            "count          2.995023e+06  2.995023e+06  \n",
            "mean           2.274231e+00  1.074086e-01  \n",
            "min           -2.500000e+00 -1.250000e+00  \n",
            "25%            2.500000e+00  0.000000e+00  \n",
            "50%            2.500000e+00  0.000000e+00  \n",
            "75%            2.500000e+00  0.000000e+00  \n",
            "max            2.500000e+00  1.250000e+00  \n",
            "std            7.718454e-01  3.556511e-01  \n"
          ]
        }
      ]
    },
    {
      "cell_type": "code",
      "source": [
        "num_cols = len(df_jan.columns)\n",
        "print(f\"The dataset has {num_cols} columns.\")"
      ],
      "metadata": {
        "colab": {
          "base_uri": "https://localhost:8080/"
        },
        "id": "g2KKtXNibKOR",
        "outputId": "7a64861e-dace-4384-e3a1-4ec1a18ddcae"
      },
      "execution_count": 19,
      "outputs": [
        {
          "output_type": "stream",
          "name": "stdout",
          "text": [
            "The dataset has 19 columns.\n"
          ]
        }
      ]
    },
    {
      "cell_type": "code",
      "source": [
        "def calculate_duration(df):\n",
        "  df['duration'] = (df['tpep_dropoff_datetime'] - df['tpep_pickup_datetime']).dt.total_seconds() / 60\n",
        "  return df\n",
        "\n",
        "def filter_data(df):\n",
        "  return df.loc[(df['duration'] >= 1) & (df['duration'] <= 60)]\n",
        "\n",
        "def prepare_data(df):\n",
        "  df['PULocationID'] = df['PULocationID'].astype(str)\n",
        "  df['DOLocationID'] = df['DOLocationID'].astype(str)\n",
        "  return df\n",
        "\n",
        "def create_features(df):\n",
        "  return df[['PULocationID', 'DOLocationID']].apply(lambda row: row.to_dict(), axis=1).tolist()"
      ],
      "metadata": {
        "id": "4BoE9xJFbN7L"
      },
      "execution_count": 20,
      "outputs": []
    },
    {
      "cell_type": "code",
      "source": [
        "df_jan = calculate_duration(df_jan.copy())\n",
        "df_fev = calculate_duration(df_fev.copy())\n",
        "\n",
        "df_jan_filtered = filter_data(df_jan)\n",
        "df_fev_filtered = filter_data(df_fev)\n",
        "\n",
        "df_jan_filtered = prepare_data(df_jan_filtered)\n",
        "df_fev_filtered = prepare_data(df_fev_filtered)\n",
        "\n",
        "dict_list = create_features(df_jan_filtered)\n",
        "dict_list_val = create_features(df_fev_filtered)"
      ],
      "metadata": {
        "colab": {
          "base_uri": "https://localhost:8080/"
        },
        "id": "x3TMqUi2bSbf",
        "outputId": "2ddd3ba6-c906-40a6-e854-9a5ad3ccd00b"
      },
      "execution_count": 21,
      "outputs": [
        {
          "output_type": "stream",
          "name": "stderr",
          "text": [
            "<ipython-input-20-a666c5687aa6>:9: SettingWithCopyWarning: \n",
            "A value is trying to be set on a copy of a slice from a DataFrame.\n",
            "Try using .loc[row_indexer,col_indexer] = value instead\n",
            "\n",
            "See the caveats in the documentation: https://pandas.pydata.org/pandas-docs/stable/user_guide/indexing.html#returning-a-view-versus-a-copy\n",
            "  df['PULocationID'] = df['PULocationID'].astype(str)\n",
            "<ipython-input-20-a666c5687aa6>:10: SettingWithCopyWarning: \n",
            "A value is trying to be set on a copy of a slice from a DataFrame.\n",
            "Try using .loc[row_indexer,col_indexer] = value instead\n",
            "\n",
            "See the caveats in the documentation: https://pandas.pydata.org/pandas-docs/stable/user_guide/indexing.html#returning-a-view-versus-a-copy\n",
            "  df['DOLocationID'] = df['DOLocationID'].astype(str)\n",
            "<ipython-input-20-a666c5687aa6>:9: SettingWithCopyWarning: \n",
            "A value is trying to be set on a copy of a slice from a DataFrame.\n",
            "Try using .loc[row_indexer,col_indexer] = value instead\n",
            "\n",
            "See the caveats in the documentation: https://pandas.pydata.org/pandas-docs/stable/user_guide/indexing.html#returning-a-view-versus-a-copy\n",
            "  df['PULocationID'] = df['PULocationID'].astype(str)\n",
            "<ipython-input-20-a666c5687aa6>:10: SettingWithCopyWarning: \n",
            "A value is trying to be set on a copy of a slice from a DataFrame.\n",
            "Try using .loc[row_indexer,col_indexer] = value instead\n",
            "\n",
            "See the caveats in the documentation: https://pandas.pydata.org/pandas-docs/stable/user_guide/indexing.html#returning-a-view-versus-a-copy\n",
            "  df['DOLocationID'] = df['DOLocationID'].astype(str)\n"
          ]
        }
      ]
    },
    {
      "cell_type": "code",
      "source": [
        "vectorizer = DictVectorizer()\n",
        "\n",
        "X_jan = vectorizer.fit_transform(dict_list)\n",
        "y_jan = df_jan_filtered['duration']\n",
        "\n",
        "X_val = vectorizer.transform(dict_list_val)\n",
        "y_val = df_fev_filtered['duration']\n",
        "\n",
        "model = LinearRegression()\n",
        "model.fit(X_jan, y_jan)\n",
        "y_pred_jan = model.predict(X_jan)\n",
        "rmse_jan = mean_squared_error(y_jan, y_pred_jan, squared=False)\n",
        "\n",
        "y_pred_val = model.predict(X_val)\n",
        "rmse_val = mean_squared_error(y_val, y_pred_val, squared=False)"
      ],
      "metadata": {
        "id": "yYepkhXAbVWa"
      },
      "execution_count": 22,
      "outputs": []
    },
    {
      "cell_type": "code",
      "source": [
        "print(f\"The standard deviation of trip duration in January is {df_jan['duration'].std():.2f} minutes.\")\n",
        "fraction_remaining = len(df_jan_filtered) / len(df_jan)\n",
        "print(f\"The fraction of remaining records is {fraction_remaining:.2f}%\")\n",
        "print(f\"The dimensionality of the feature matrix is 515 {X_jan.shape[1]} columns.\")\n",
        "print(f\"The RMSE on the training set is {rmse_jan:.2f}\")\n",
        "print(f\"The RMSE on the validation set is {rmse_val:.2f}\")"
      ],
      "metadata": {
        "colab": {
          "base_uri": "https://localhost:8080/"
        },
        "id": "9rX3BSOQbWY8",
        "outputId": "cc39fc4f-aa96-4007-bd03-d3ee9a2fe6c2"
      },
      "execution_count": 23,
      "outputs": [
        {
          "output_type": "stream",
          "name": "stdout",
          "text": [
            "The standard deviation of trip duration in January is 42.59 minutes.\n",
            "The fraction of remaining records is 0.98%\n",
            "The dimensionality of the feature matrix is 515 515 columns.\n",
            "The RMSE on the training set is 7.65\n",
            "The RMSE on the validation set is 7.81\n"
          ]
        }
      ]
    },
    {
      "cell_type": "code",
      "source": [],
      "metadata": {
        "id": "P7aAlSKbbYrX"
      },
      "execution_count": 23,
      "outputs": []
    }
  ]
}